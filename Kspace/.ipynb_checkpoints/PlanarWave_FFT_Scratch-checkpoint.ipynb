{
 "cells": [
  {
   "cell_type": "markdown",
   "metadata": {},
   "source": [
    "# This code shows planar waves, and their location in kspace\n",
    "\n",
    "Distance from center = frequency\\\n",
    "Angle from horizontal =  tilt \\\n",
    "Complex portion = phase \n",
    "\n",
    "Any questions should be directed to Mira Liu at liusarkarm@uchicago.edu\\\n",
    "May 2023"
   ]
  },
  {
   "cell_type": "code",
   "execution_count": 1,
   "metadata": {},
   "outputs": [
    {
     "name": "stdout",
     "output_type": "stream",
     "text": [
      "Using matplotlib backend: MacOSX\n"
     ]
    }
   ],
   "source": [
    "# Load packages \n",
    "from PrepFunctions import * \n",
    "%matplotlib"
   ]
  },
  {
   "cell_type": "markdown",
   "metadata": {},
   "source": [
    "# plot 2d planar wave"
   ]
  },
  {
   "cell_type": "code",
   "execution_count": 3,
   "metadata": {},
   "outputs": [],
   "source": [
    "fig, (ax1, ax2) = pl.subplots(1,2)\n",
    "\n",
    "x = np.arange(0, 101, 1)\n",
    "X, Y = np.meshgrid(x, x)\n",
    "img = np.sin(2 * np.pi * X /20) #20 is the wavelength (how many pixels in one lil wave)\n",
    "ax1.imshow(img,cmap = 'gray')\n",
    "ax1.set_title('2d planar wave')\n",
    "ax2.plot(img[51])\n",
    "ax2.set_title('Cross section of 2d planar wave')\n",
    "pl.show()\n",
    "\n",
    "#so this has wavelength of 30\n",
    "# pixel size of 3"
   ]
  },
  {
   "cell_type": "markdown",
   "metadata": {},
   "source": [
    "# get FFT"
   ]
  },
  {
   "cell_type": "code",
   "execution_count": 4,
   "metadata": {},
   "outputs": [
    {
     "data": {
      "text/plain": [
       "(array([50, 50]), array([45, 55]))"
      ]
     },
     "execution_count": 4,
     "metadata": {},
     "output_type": "execute_result"
    }
   ],
   "source": [
    "fig, (ax1, ax2) = pl.subplots(1,2)\n",
    "ft = np.fft.fft2(img)\n",
    "kspace = np.fft.fftshift(ft) #moves zero frequency component to center\n",
    "ax1.imshow(np.abs(kspace),cmap = 'gray')\n",
    "ax1.set_title('Fourier Transform of 2d planar wave')\n",
    "ax2.plot(np.abs(kspace)[50])\n",
    "ax2.set_title('Cross section of Fourier Transform')\n",
    "pl.show()\n",
    "\n",
    "arr = np.abs(kspace)\n",
    "np.amax(np.abs(kspace))\n",
    "np.where(arr==np.amax(arr))"
   ]
  },
  {
   "cell_type": "markdown",
   "metadata": {},
   "source": [
    "# get iFFT"
   ]
  },
  {
   "cell_type": "code",
   "execution_count": 5,
   "metadata": {},
   "outputs": [],
   "source": [
    "fig, (ax1,ax2,ax3,ax4) = pl.subplots(1,4)\n",
    "\n",
    "ax1.imshow(img,cmap = 'gray')\n",
    "ax1.set_title('2d planar wave')\n",
    "ax2.imshow(np.abs(kspace),cmap = 'gray')\n",
    "ax2.set_title('FT\\n of wave')\n",
    "\n",
    "#ifft of k-space back into spatial domain\n",
    "ift = np.fft.ifftshift(kspace)\n",
    "iimg = np.fft.ifft2(ift)\n",
    "\n",
    "#fft of ifft \n",
    "rekspace = np.fft.fft2(iimg)\n",
    "rekspace = np.fft.fftshift(rekspace) #moves zero frequency component to center\n",
    "\n",
    "\n",
    "ax3.imshow(np.real(iimg),cmap = 'gray')\n",
    "ax3.set_title('iFT\\n of FT')\n",
    "ax4.imshow(np.abs(rekspace),cmap = 'gray')\n",
    "ax4.set_title('k-space\\nof the iFT')\n",
    "\n",
    "pl.show()"
   ]
  },
  {
   "cell_type": "markdown",
   "metadata": {},
   "source": [
    "# now that that is all set, lets rotate the sinusoid and show how that leads to rotating points in k-space"
   ]
  },
  {
   "cell_type": "code",
   "execution_count": 6,
   "metadata": {},
   "outputs": [],
   "source": [
    "#fig, (ax1, ax2) = pl.subplots(1,2)\n",
    "angles = np.linspace(0,np.pi/2,10)\n",
    "#ax1.set_title('Planar Wave')\n",
    "#ax2.set_title('FT of Planar Wave')\n",
    "for tilt in angles:\n",
    "    fig, (ax1, ax2) = pl.subplots(1,2)\n",
    "    #phi being the tilt angle\n",
    "    img = np.sin(2*np.pi*(X*np.cos(tilt) + Y*np.sin(tilt)) / 20)\n",
    "    ax1.imshow(img,cmap = 'gray',extent = [0,1,0,1])\n",
    "    ft = np.fft.fft2(img)\n",
    "    kspace = np.fft.fftshift(ft) #moves zero frequency component to center\n",
    "    ax2.imshow(np.abs(kspace),cmap = 'gray')\n",
    "    #ax2.plot(img[:,51],x)\n",
    "    \n",
    "    pl.tight_layout()\n",
    "    pl.pause(.5)\n",
    "    \n",
    "    "
   ]
  },
  {
   "cell_type": "markdown",
   "metadata": {},
   "source": [
    "# now include phase and show how that phase isn't ky (it's imaginary!)"
   ]
  },
  {
   "cell_type": "code",
   "execution_count": 7,
   "metadata": {},
   "outputs": [],
   "source": [
    "fig, (ax1, ax2, ax3) = pl.subplots(1,3)\n",
    "phases = np.linspace(0,np.pi,10)\n",
    "ax1.set_title('Phase shifting\\nPlanar Wave')\n",
    "ax2.set_title('FT of Planar Wave')\n",
    "ax3.set_title('imaginary component\\nof iFT')\n",
    "for phi in phases:\n",
    "    #phi being the tilt angle\n",
    "    img = np.sin(2*np.pi*(X*np.cos(np.pi/4) + Y*np.sin(np.pi/4)) / 20 + phi)\n",
    "    ax1.imshow(img,cmap = 'gray')\n",
    "    ft = np.fft.fft2(img)\n",
    "    kspace = np.fft.fftshift(ft) #moves zero frequency component to center\n",
    "    ax2.imshow(np.abs(kspace),cmap = 'gray')\n",
    "    ax3.imshow(np.imag(kspace),cmap = 'gray')\n",
    "    \n",
    "    \n",
    "    pl.colorbar\n",
    "    pl.pause(.5)"
   ]
  },
  {
   "cell_type": "markdown",
   "metadata": {},
   "source": [
    "# Now show increasing frequency while rotating"
   ]
  },
  {
   "cell_type": "code",
   "execution_count": 8,
   "metadata": {},
   "outputs": [],
   "source": [
    "fig, (ax1, ax2) = pl.subplots(1,2)\n",
    "angles = np.linspace(0,np.pi,20)\n",
    "wavelengths = np.linspace(20,5,20)\n",
    "ax1.set_title('Planar Wave')\n",
    "ax2.set_title('FT of Planar Wave')\n",
    "for j in range(len(angles)):\n",
    "    #phi being the tilt angle\n",
    "    img = np.sin(2*np.pi*(X*np.cos(angles[j]) + Y*np.sin(angles[j])) / wavelengths[j])\n",
    "    ax1.imshow(img,cmap = 'gray')\n",
    "    ft = np.fft.fft2(img)\n",
    "    kspace = np.fft.fftshift(ft) #moves zero frequency component to center\n",
    "    ax2.imshow(np.abs(kspace),cmap = 'gray')\n",
    "\n",
    "    pl.pause(.5)\n",
    "    \n",
    "    "
   ]
  },
  {
   "cell_type": "markdown",
   "metadata": {},
   "source": [
    "# This should show how the frequency, orientation, and phase of a 2D wave is shown in 2D fourier space. "
   ]
  },
  {
   "cell_type": "code",
   "execution_count": null,
   "metadata": {},
   "outputs": [],
   "source": []
  }
 ],
 "metadata": {
  "kernelspec": {
   "display_name": "Python 3",
   "language": "python",
   "name": "python3"
  },
  "language_info": {
   "codemirror_mode": {
    "name": "ipython",
    "version": 3
   },
   "file_extension": ".py",
   "mimetype": "text/x-python",
   "name": "python",
   "nbconvert_exporter": "python",
   "pygments_lexer": "ipython3",
   "version": "3.7.4"
  }
 },
 "nbformat": 4,
 "nbformat_minor": 2
}
